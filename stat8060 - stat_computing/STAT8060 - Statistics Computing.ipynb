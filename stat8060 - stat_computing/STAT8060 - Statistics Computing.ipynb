{
 "cells": [
  {
   "cell_type": "markdown",
   "metadata": {},
   "source": [
    "# Introduction\n"
   ]
  },
  {
   "cell_type": "markdown",
   "metadata": {},
   "source": [
    "## Bisection algorithm\n",
    "\n",
    "1. Define an interval $[a, b]$ such that the result falls in the interval \n",
    "2. Divide into two subintervals $[a,(a+b)/2]$ and $[(a+b)/2,b]$\n",
    "3. Choose the subinterval contaning the result and repeat 2 until error is less than a predefined threshold"
   ]
  },
  {
   "cell_type": "code",
   "execution_count": 1,
   "metadata": {
    "scrolled": true,
    "vscode": {
     "languageId": "r"
    }
   },
   "outputs": [
    {
     "data": {
      "text/html": [
       "<dl>\n",
       "\t<dt>$value</dt>\n",
       "\t\t<dd>1.4140625</dd>\n",
       "\t<dt>$error</dt>\n",
       "\t\t<dd>0.00042724609375</dd>\n",
       "\t<dt>$nit</dt>\n",
       "\t\t<dd>8</dd>\n",
       "</dl>\n"
      ],
      "text/latex": [
       "\\begin{description}\n",
       "\\item[\\$value] 1.4140625\n",
       "\\item[\\$error] 0.00042724609375\n",
       "\\item[\\$nit] 8\n",
       "\\end{description}\n"
      ],
      "text/markdown": [
       "$value\n",
       ":   1.4140625\n",
       "$error\n",
       ":   0.00042724609375\n",
       "$nit\n",
       ":   8\n",
       "\n",
       "\n"
      ],
      "text/plain": [
       "$value\n",
       "[1] 1.414062\n",
       "\n",
       "$error\n",
       "[1] 0.0004272461\n",
       "\n",
       "$nit\n",
       "[1] 8\n"
      ]
     },
     "metadata": {},
     "output_type": "display_data"
    }
   ],
   "source": [
    "my_sqrt = function(x, Error){\n",
    "    a = 0\n",
    "    if(x < 1){\n",
    "        b = 1\n",
    "    }else b = x\n",
    "\n",
    "    middle = (a+b)/2\n",
    "    error = abs(middle^2-x)\n",
    "\n",
    "    nit = 0\n",
    "    while(error > Error){\n",
    "        nit = nit + 1\n",
    "        middle = (a+b)/2\n",
    "        if (middle^2 > x){\n",
    "            b = middle \n",
    "        }else a = middle \n",
    "\n",
    "        error = abs(b-a)\n",
    "    }\n",
    "    \n",
    "    result = list(value=as.numeric, error=as.numeric, nit=as.numeric)\n",
    "    result$value = middle\n",
    "    result$error = abs(middle^2-x)\n",
    "    result$nit = nit\n",
    "    result\n",
    "}\n",
    "\n",
    "my_sqrt(x=2, Error=10e-3)"
   ]
  },
  {
   "cell_type": "markdown",
   "metadata": {},
   "source": [
    "## Newton-Raphson algorithm\n",
    "\n",
    "The derivative of a differentiable function $f(x)$ at $x^*$ can be approximated by the ratio, i.e., \n",
    "$$f'(x^*) \\approx \\frac{f(x)-f(x^*)}{x-x^*}$$\n",
    "\n",
    "which is equivalent to\n",
    "$$x^* = x - \\frac{f(x)-f(x^*)}{f'(x)}$$\n",
    "\n",
    "This recursive equation can be used find a solution to an equation $f(x)=a$,  \n",
    "$$x_{n+1} = x_{n} - \\frac{f(x_n)-a}{f'(x_n)}$$\n",
    "\n",
    "For example, define $f(x)=x^2$ and $\\sqrt{2}$ is the solution to the equation $f(x)=2$. Thus, the recursive function is \n",
    "$$x_{n+1} = x_{n} - \\frac{x_n^2-a}{2x_n}$$\n",
    "\n"
   ]
  },
  {
   "cell_type": "code",
   "execution_count": 2,
   "metadata": {
    "scrolled": true,
    "vscode": {
     "languageId": "r"
    }
   },
   "outputs": [
    {
     "data": {
      "text/html": [
       "<dl>\n",
       "\t<dt>$value</dt>\n",
       "\t\t<dd>1.41421356237469</dd>\n",
       "\t<dt>$error</dt>\n",
       "\t\t<dd>4.51061410444709e-12</dd>\n",
       "\t<dt>$nit</dt>\n",
       "\t\t<dd>4</dd>\n",
       "</dl>\n"
      ],
      "text/latex": [
       "\\begin{description}\n",
       "\\item[\\$value] 1.41421356237469\n",
       "\\item[\\$error] 4.51061410444709e-12\n",
       "\\item[\\$nit] 4\n",
       "\\end{description}\n"
      ],
      "text/markdown": [
       "$value\n",
       ":   1.41421356237469\n",
       "$error\n",
       ":   4.51061410444709e-12\n",
       "$nit\n",
       ":   4\n",
       "\n",
       "\n"
      ],
      "text/plain": [
       "$value\n",
       "[1] 1.414214\n",
       "\n",
       "$error\n",
       "[1] 4.510614e-12\n",
       "\n",
       "$nit\n",
       "[1] 4\n"
      ]
     },
     "metadata": {},
     "output_type": "display_data"
    }
   ],
   "source": [
    "my_sqrt1 = function(x, Error){  \n",
    "    old = x/2\n",
    "    error = Error+1\n",
    "    nit = 0\n",
    "    while(error > Error){\n",
    "        nit = nit+1\n",
    "        new = old - (old^2-x)/(2*old)\n",
    "        error = abs(new-old)\n",
    "        old = new\n",
    "    }\n",
    "    result = list(value=as.numeric, error=as.numeric, nit=as.numeric)\n",
    "    result$value = new\n",
    "    result$error = abs(new^2-x)\n",
    "    result$nit = nit\n",
    "    result  \n",
    "}\n",
    "my_sqrt1(2,Error=0.001)\n"
   ]
  },
  {
   "cell_type": "markdown",
   "metadata": {},
   "source": [
    "## Infinite sequences for calculating $\\pi$ and $e$"
   ]
  },
  {
   "cell_type": "code",
   "execution_count": 3,
   "metadata": {
    "vscode": {
     "languageId": "r"
    }
   },
   "outputs": [
    {
     "name": "stdout",
     "output_type": "stream",
     "text": [
      "[1] 2.718146\n",
      "[1] 3.141493\n"
     ]
    }
   ],
   "source": [
    "n=10000\n",
    "print((1+1/n)^n)\n",
    "\n",
    "n=10000\n",
    "x = 0\n",
    "for(i in 1:n) x = x + (-1)^(i-1)/(2*i-1)\n",
    "print(4*x)\n"
   ]
  },
  {
   "cell_type": "markdown",
   "metadata": {},
   "source": [
    "## Numerical Integration\n",
    "\n",
    "To calculate the integral $\\int_a^bf(x)dx$, we divide the interval $[a,b]$ into smaller intervals $[a,a+\\delta], [a+\\delta,a+2\\delta],\\dot,[a+(n-1)\\delta,b]$. Then $\\int_a^bf(x)dx\\approx \\sum_{i=1}^nf(a+i\\delta)\\delta$."
   ]
  },
  {
   "cell_type": "code",
   "execution_count": 4,
   "metadata": {
    "vscode": {
     "languageId": "r"
    }
   },
   "outputs": [
    {
     "data": {
      "text/html": [
       "0.33835"
      ],
      "text/latex": [
       "0.33835"
      ],
      "text/markdown": [
       "0.33835"
      ],
      "text/plain": [
       "[1] 0.33835"
      ]
     },
     "metadata": {},
     "output_type": "display_data"
    }
   ],
   "source": [
    "n=100\n",
    "a=0\n",
    "b=1\n",
    "delta = (b-a)/n\n",
    "\n",
    "integral = 0\n",
    "for(i in 1:n) integral = integral+(a+i*delta)^2 * delta\n",
    "\n",
    "integral"
   ]
  },
  {
   "cell_type": "markdown",
   "metadata": {},
   "source": [
    "## Numerical Differentiation\n",
    "\n",
    "$$f'(x)=lim_{\\delta x\\rightarrow 0}\\frac{f(x+\\delta x)-f(x)}{\\delta x}$$"
   ]
  },
  {
   "cell_type": "code",
   "execution_count": 5,
   "metadata": {
    "vscode": {
     "languageId": "r"
    }
   },
   "outputs": [
    {
     "data": {
      "text/html": [
       "6.10000000000001"
      ],
      "text/latex": [
       "6.10000000000001"
      ],
      "text/markdown": [
       "6.10000000000001"
      ],
      "text/plain": [
       "[1] 6.1"
      ]
     },
     "metadata": {},
     "output_type": "display_data"
    }
   ],
   "source": [
    "x=3\n",
    "delta = 0.1\n",
    "\n",
    "((x+delta)^2-x^2)/delta"
   ]
  },
  {
   "cell_type": "markdown",
   "metadata": {},
   "source": [
    "# Chapter 1: Numerical Linear Algebra"
   ]
  },
  {
   "cell_type": "markdown",
   "metadata": {},
   "source": [
    "## Gaussian Elimination and Backward Substitution"
   ]
  },
  {
   "cell_type": "markdown",
   "metadata": {},
   "source": [
    "### 1. Gaussian Elimination"
   ]
  },
  {
   "cell_type": "code",
   "execution_count": 6,
   "metadata": {
    "vscode": {
     "languageId": "r"
    }
   },
   "outputs": [
    {
     "data": {
      "text/html": [
       "<table class=\"dataframe\">\n",
       "<caption>A matrix: 4 × 4 of type dbl</caption>\n",
       "<tbody>\n",
       "\t<tr><td>0.7977843</td><td>0.36129411</td><td>0.9878469</td><td>0.9053100</td></tr>\n",
       "\t<tr><td>0.7535651</td><td>0.19834473</td><td>0.1675695</td><td>0.8808486</td></tr>\n",
       "\t<tr><td>0.3912557</td><td>0.53485796</td><td>0.7979891</td><td>0.9938366</td></tr>\n",
       "\t<tr><td>0.3415567</td><td>0.09652624</td><td>0.5937940</td><td>0.8959563</td></tr>\n",
       "</tbody>\n",
       "</table>\n"
      ],
      "text/latex": [
       "A matrix: 4 × 4 of type dbl\n",
       "\\begin{tabular}{llll}\n",
       "\t 0.7977843 & 0.36129411 & 0.9878469 & 0.9053100\\\\\n",
       "\t 0.7535651 & 0.19834473 & 0.1675695 & 0.8808486\\\\\n",
       "\t 0.3912557 & 0.53485796 & 0.7979891 & 0.9938366\\\\\n",
       "\t 0.3415567 & 0.09652624 & 0.5937940 & 0.8959563\\\\\n",
       "\\end{tabular}\n"
      ],
      "text/markdown": [
       "\n",
       "A matrix: 4 × 4 of type dbl\n",
       "\n",
       "| 0.7977843 | 0.36129411 | 0.9878469 | 0.9053100 |\n",
       "| 0.7535651 | 0.19834473 | 0.1675695 | 0.8808486 |\n",
       "| 0.3912557 | 0.53485796 | 0.7979891 | 0.9938366 |\n",
       "| 0.3415567 | 0.09652624 | 0.5937940 | 0.8959563 |\n",
       "\n"
      ],
      "text/plain": [
       "     [,1]      [,2]       [,3]      [,4]     \n",
       "[1,] 0.7977843 0.36129411 0.9878469 0.9053100\n",
       "[2,] 0.7535651 0.19834473 0.1675695 0.8808486\n",
       "[3,] 0.3912557 0.53485796 0.7979891 0.9938366\n",
       "[4,] 0.3415567 0.09652624 0.5937940 0.8959563"
      ]
     },
     "metadata": {},
     "output_type": "display_data"
    },
    {
     "data": {
      "text/html": [
       "<table class=\"dataframe\">\n",
       "<caption>A matrix: 4 × 4 of type dbl</caption>\n",
       "<tbody>\n",
       "\t<tr><td>1</td><td>0.4528719</td><td>1.238238</td><td> 1.1347804</td></tr>\n",
       "\t<tr><td>0</td><td>1.0000000</td><td>5.356168</td><td>-0.1799404</td></tr>\n",
       "\t<tr><td>0</td><td>0.0000000</td><td>1.000000</td><td>-0.3833483</td></tr>\n",
       "\t<tr><td>0</td><td>0.0000000</td><td>0.000000</td><td> 1.0000000</td></tr>\n",
       "</tbody>\n",
       "</table>\n"
      ],
      "text/latex": [
       "A matrix: 4 × 4 of type dbl\n",
       "\\begin{tabular}{llll}\n",
       "\t 1 & 0.4528719 & 1.238238 &  1.1347804\\\\\n",
       "\t 0 & 1.0000000 & 5.356168 & -0.1799404\\\\\n",
       "\t 0 & 0.0000000 & 1.000000 & -0.3833483\\\\\n",
       "\t 0 & 0.0000000 & 0.000000 &  1.0000000\\\\\n",
       "\\end{tabular}\n"
      ],
      "text/markdown": [
       "\n",
       "A matrix: 4 × 4 of type dbl\n",
       "\n",
       "| 1 | 0.4528719 | 1.238238 |  1.1347804 |\n",
       "| 0 | 1.0000000 | 5.356168 | -0.1799404 |\n",
       "| 0 | 0.0000000 | 1.000000 | -0.3833483 |\n",
       "| 0 | 0.0000000 | 0.000000 |  1.0000000 |\n",
       "\n"
      ],
      "text/plain": [
       "     [,1] [,2]      [,3]     [,4]      \n",
       "[1,] 1    0.4528719 1.238238  1.1347804\n",
       "[2,] 0    1.0000000 5.356168 -0.1799404\n",
       "[3,] 0    0.0000000 1.000000 -0.3833483\n",
       "[4,] 0    0.0000000 0.000000  1.0000000"
      ]
     },
     "metadata": {},
     "output_type": "display_data"
    }
   ],
   "source": [
    "gaussElimination <- function (a) {\n",
    "  n <- nrow (a)\n",
    "  for (i in 1 : (n-1)) {\n",
    "    a[i,] <- a[i,]/a[i,i]\n",
    "\n",
    "    for (j in (i + 1) : n) {\n",
    "      a[j,] <- a[j, ]/a[j,i] - a[i,]\n",
    "    }\n",
    "  }\n",
    "  if(a[n,n] != 0) a[n,] = a[n,]/a[n,n]\n",
    "    \n",
    "  return (a)\n",
    "}\n",
    "\n",
    "set.seed(123456)\n",
    "a <- matrix (runif(16), 4, 4)\n",
    "a\n",
    "\n",
    "fa = gaussElimination(a)\n",
    "fa\n"
   ]
  },
  {
   "cell_type": "markdown",
   "metadata": {},
   "source": [
    "### 2. Backward Substitution"
   ]
  },
  {
   "cell_type": "code",
   "execution_count": 7,
   "metadata": {
    "vscode": {
     "languageId": "r"
    }
   },
   "outputs": [
    {
     "data": {
      "text/html": [
       "<table class=\"dataframe\">\n",
       "<caption>A matrix: 4 × 4 of type dbl</caption>\n",
       "<tbody>\n",
       "\t<tr><td>1</td><td>0</td><td>0</td><td>0</td></tr>\n",
       "\t<tr><td>0</td><td>1</td><td>0</td><td>0</td></tr>\n",
       "\t<tr><td>0</td><td>0</td><td>1</td><td>0</td></tr>\n",
       "\t<tr><td>0</td><td>0</td><td>0</td><td>1</td></tr>\n",
       "</tbody>\n",
       "</table>\n"
      ],
      "text/latex": [
       "A matrix: 4 × 4 of type dbl\n",
       "\\begin{tabular}{llll}\n",
       "\t 1 & 0 & 0 & 0\\\\\n",
       "\t 0 & 1 & 0 & 0\\\\\n",
       "\t 0 & 0 & 1 & 0\\\\\n",
       "\t 0 & 0 & 0 & 1\\\\\n",
       "\\end{tabular}\n"
      ],
      "text/markdown": [
       "\n",
       "A matrix: 4 × 4 of type dbl\n",
       "\n",
       "| 1 | 0 | 0 | 0 |\n",
       "| 0 | 1 | 0 | 0 |\n",
       "| 0 | 0 | 1 | 0 |\n",
       "| 0 | 0 | 0 | 1 |\n",
       "\n"
      ],
      "text/plain": [
       "     [,1] [,2] [,3] [,4]\n",
       "[1,] 1    0    0    0   \n",
       "[2,] 0    1    0    0   \n",
       "[3,] 0    0    1    0   \n",
       "[4,] 0    0    0    1   "
      ]
     },
     "metadata": {},
     "output_type": "display_data"
    }
   ],
   "source": [
    "backwardSubstitution <- function (a) {\n",
    "  n <- nrow (a)\n",
    "    for (i in n : 2) {\n",
    "        a[i,] = a[i,]/a[i,i]\n",
    "        for (j in (i - 1) : 1) {\n",
    "            a[j,] <- a[j,]/a[j,i] - a[i,]\n",
    "        }\n",
    "    }\n",
    "    if(a[1,1] != 0) a[1,] = a[1,]/a[1,1]\n",
    "    return (a)\n",
    "}\n",
    "backwardSubstitution(fa)\n"
   ]
  },
  {
   "cell_type": "markdown",
   "metadata": {},
   "source": [
    "### 3. Solving a system of linear equations"
   ]
  },
  {
   "cell_type": "code",
   "execution_count": 8,
   "metadata": {
    "vscode": {
     "languageId": "r"
    }
   },
   "outputs": [
    {
     "data": {
      "text/html": [
       "<table class=\"dataframe\">\n",
       "<caption>A matrix: 4 × 5 of type dbl</caption>\n",
       "<thead>\n",
       "\t<tr><th scope=col></th><th scope=col></th><th scope=col></th><th scope=col></th><th scope=col>y</th></tr>\n",
       "</thead>\n",
       "<tbody>\n",
       "\t<tr><td>0.7977843</td><td>0.36129411</td><td>0.9878469</td><td>0.9053100</td><td>1</td></tr>\n",
       "\t<tr><td>0.7535651</td><td>0.19834473</td><td>0.1675695</td><td>0.8808486</td><td>2</td></tr>\n",
       "\t<tr><td>0.3912557</td><td>0.53485796</td><td>0.7979891</td><td>0.9938366</td><td>3</td></tr>\n",
       "\t<tr><td>0.3415567</td><td>0.09652624</td><td>0.5937940</td><td>0.8959563</td><td>4</td></tr>\n",
       "</tbody>\n",
       "</table>\n"
      ],
      "text/latex": [
       "A matrix: 4 × 5 of type dbl\n",
       "\\begin{tabular}{lllll}\n",
       "  &  &  &  & y\\\\\n",
       "\\hline\n",
       "\t 0.7977843 & 0.36129411 & 0.9878469 & 0.9053100 & 1\\\\\n",
       "\t 0.7535651 & 0.19834473 & 0.1675695 & 0.8808486 & 2\\\\\n",
       "\t 0.3912557 & 0.53485796 & 0.7979891 & 0.9938366 & 3\\\\\n",
       "\t 0.3415567 & 0.09652624 & 0.5937940 & 0.8959563 & 4\\\\\n",
       "\\end{tabular}\n"
      ],
      "text/markdown": [
       "\n",
       "A matrix: 4 × 5 of type dbl\n",
       "\n",
       "| <!----> | <!----> | <!----> | <!----> | y |\n",
       "|---|---|---|---|---|\n",
       "| 0.7977843 | 0.36129411 | 0.9878469 | 0.9053100 | 1 |\n",
       "| 0.7535651 | 0.19834473 | 0.1675695 | 0.8808486 | 2 |\n",
       "| 0.3912557 | 0.53485796 | 0.7979891 | 0.9938366 | 3 |\n",
       "| 0.3415567 | 0.09652624 | 0.5937940 | 0.8959563 | 4 |\n",
       "\n"
      ],
      "text/plain": [
       "                                              y\n",
       "[1,] 0.7977843 0.36129411 0.9878469 0.9053100 1\n",
       "[2,] 0.7535651 0.19834473 0.1675695 0.8808486 2\n",
       "[3,] 0.3912557 0.53485796 0.7979891 0.9938366 3\n",
       "[4,] 0.3415567 0.09652624 0.5937940 0.8959563 4"
      ]
     },
     "metadata": {},
     "output_type": "display_data"
    }
   ],
   "source": [
    "set.seed(123456)\n",
    "y = 1:4\n",
    "a = matrix(runif(16),4,4)\n",
    "b = cbind(a,y)\n",
    "b"
   ]
  },
  {
   "cell_type": "code",
   "execution_count": 9,
   "metadata": {
    "vscode": {
     "languageId": "r"
    }
   },
   "outputs": [
    {
     "data": {
      "text/html": [
       "<table class=\"dataframe\">\n",
       "<caption>A matrix: 4 × 5 of type dbl</caption>\n",
       "<thead>\n",
       "\t<tr><th scope=col></th><th scope=col></th><th scope=col></th><th scope=col></th><th scope=col>y</th></tr>\n",
       "</thead>\n",
       "<tbody>\n",
       "\t<tr><td>1</td><td>0.4528719</td><td>1.238238</td><td> 1.1347804</td><td> 1.253472</td></tr>\n",
       "\t<tr><td>0</td><td>1.0000000</td><td>5.356168</td><td>-0.1799404</td><td>-7.384551</td></tr>\n",
       "\t<tr><td>0</td><td>0.0000000</td><td>1.000000</td><td>-0.3833483</td><td>-3.214798</td></tr>\n",
       "\t<tr><td>0</td><td>0.0000000</td><td>0.000000</td><td> 1.0000000</td><td> 6.873204</td></tr>\n",
       "</tbody>\n",
       "</table>\n"
      ],
      "text/latex": [
       "A matrix: 4 × 5 of type dbl\n",
       "\\begin{tabular}{lllll}\n",
       "  &  &  &  & y\\\\\n",
       "\\hline\n",
       "\t 1 & 0.4528719 & 1.238238 &  1.1347804 &  1.253472\\\\\n",
       "\t 0 & 1.0000000 & 5.356168 & -0.1799404 & -7.384551\\\\\n",
       "\t 0 & 0.0000000 & 1.000000 & -0.3833483 & -3.214798\\\\\n",
       "\t 0 & 0.0000000 & 0.000000 &  1.0000000 &  6.873204\\\\\n",
       "\\end{tabular}\n"
      ],
      "text/markdown": [
       "\n",
       "A matrix: 4 × 5 of type dbl\n",
       "\n",
       "| <!----> | <!----> | <!----> | <!----> | y |\n",
       "|---|---|---|---|---|\n",
       "| 1 | 0.4528719 | 1.238238 |  1.1347804 |  1.253472 |\n",
       "| 0 | 1.0000000 | 5.356168 | -0.1799404 | -7.384551 |\n",
       "| 0 | 0.0000000 | 1.000000 | -0.3833483 | -3.214798 |\n",
       "| 0 | 0.0000000 | 0.000000 |  1.0000000 |  6.873204 |\n",
       "\n"
      ],
      "text/plain": [
       "                                     y        \n",
       "[1,] 1 0.4528719 1.238238  1.1347804  1.253472\n",
       "[2,] 0 1.0000000 5.356168 -0.1799404 -7.384551\n",
       "[3,] 0 0.0000000 1.000000 -0.3833483 -3.214798\n",
       "[4,] 0 0.0000000 0.000000  1.0000000  6.873204"
      ]
     },
     "metadata": {},
     "output_type": "display_data"
    }
   ],
   "source": [
    "fb = gaussElimination(b)\n",
    "fb"
   ]
  },
  {
   "cell_type": "code",
   "execution_count": 10,
   "metadata": {
    "vscode": {
     "languageId": "r"
    }
   },
   "outputs": [
    {
     "data": {
      "text/html": [
       "<table class=\"dataframe\">\n",
       "<caption>A matrix: 4 × 5 of type dbl</caption>\n",
       "<thead>\n",
       "\t<tr><th scope=col></th><th scope=col></th><th scope=col></th><th scope=col></th><th scope=col>y</th></tr>\n",
       "</thead>\n",
       "<tbody>\n",
       "\t<tr><td>1</td><td>0</td><td>0</td><td>0</td><td>-4.4506120</td></tr>\n",
       "\t<tr><td>0</td><td>1</td><td>0</td><td>0</td><td>-3.0413798</td></tr>\n",
       "\t<tr><td>0</td><td>0</td><td>1</td><td>0</td><td>-0.5799676</td></tr>\n",
       "\t<tr><td>0</td><td>0</td><td>0</td><td>1</td><td> 6.8732039</td></tr>\n",
       "</tbody>\n",
       "</table>\n"
      ],
      "text/latex": [
       "A matrix: 4 × 5 of type dbl\n",
       "\\begin{tabular}{lllll}\n",
       "  &  &  &  & y\\\\\n",
       "\\hline\n",
       "\t 1 & 0 & 0 & 0 & -4.4506120\\\\\n",
       "\t 0 & 1 & 0 & 0 & -3.0413798\\\\\n",
       "\t 0 & 0 & 1 & 0 & -0.5799676\\\\\n",
       "\t 0 & 0 & 0 & 1 &  6.8732039\\\\\n",
       "\\end{tabular}\n"
      ],
      "text/markdown": [
       "\n",
       "A matrix: 4 × 5 of type dbl\n",
       "\n",
       "| <!----> | <!----> | <!----> | <!----> | y |\n",
       "|---|---|---|---|---|\n",
       "| 1 | 0 | 0 | 0 | -4.4506120 |\n",
       "| 0 | 1 | 0 | 0 | -3.0413798 |\n",
       "| 0 | 0 | 1 | 0 | -0.5799676 |\n",
       "| 0 | 0 | 0 | 1 |  6.8732039 |\n",
       "\n"
      ],
      "text/plain": [
       "             y         \n",
       "[1,] 1 0 0 0 -4.4506120\n",
       "[2,] 0 1 0 0 -3.0413798\n",
       "[3,] 0 0 1 0 -0.5799676\n",
       "[4,] 0 0 0 1  6.8732039"
      ]
     },
     "metadata": {},
     "output_type": "display_data"
    }
   ],
   "source": [
    "backwardSubstitution(fb)"
   ]
  },
  {
   "cell_type": "markdown",
   "metadata": {},
   "source": [
    "### 4. Matrix inverse"
   ]
  },
  {
   "cell_type": "code",
   "execution_count": 11,
   "metadata": {
    "vscode": {
     "languageId": "r"
    }
   },
   "outputs": [
    {
     "data": {
      "text/html": [
       "<table class=\"dataframe\">\n",
       "<caption>A matrix: 4 × 8 of type dbl</caption>\n",
       "<tbody>\n",
       "\t<tr><td>0.7977843</td><td>0.36129411</td><td>0.9878469</td><td>0.9053100</td><td>1</td><td>0</td><td>0</td><td>0</td></tr>\n",
       "\t<tr><td>0.7535651</td><td>0.19834473</td><td>0.1675695</td><td>0.8808486</td><td>0</td><td>1</td><td>0</td><td>0</td></tr>\n",
       "\t<tr><td>0.3912557</td><td>0.53485796</td><td>0.7979891</td><td>0.9938366</td><td>0</td><td>0</td><td>1</td><td>0</td></tr>\n",
       "\t<tr><td>0.3415567</td><td>0.09652624</td><td>0.5937940</td><td>0.8959563</td><td>0</td><td>0</td><td>0</td><td>1</td></tr>\n",
       "</tbody>\n",
       "</table>\n"
      ],
      "text/latex": [
       "A matrix: 4 × 8 of type dbl\n",
       "\\begin{tabular}{llllllll}\n",
       "\t 0.7977843 & 0.36129411 & 0.9878469 & 0.9053100 & 1 & 0 & 0 & 0\\\\\n",
       "\t 0.7535651 & 0.19834473 & 0.1675695 & 0.8808486 & 0 & 1 & 0 & 0\\\\\n",
       "\t 0.3912557 & 0.53485796 & 0.7979891 & 0.9938366 & 0 & 0 & 1 & 0\\\\\n",
       "\t 0.3415567 & 0.09652624 & 0.5937940 & 0.8959563 & 0 & 0 & 0 & 1\\\\\n",
       "\\end{tabular}\n"
      ],
      "text/markdown": [
       "\n",
       "A matrix: 4 × 8 of type dbl\n",
       "\n",
       "| 0.7977843 | 0.36129411 | 0.9878469 | 0.9053100 | 1 | 0 | 0 | 0 |\n",
       "| 0.7535651 | 0.19834473 | 0.1675695 | 0.8808486 | 0 | 1 | 0 | 0 |\n",
       "| 0.3912557 | 0.53485796 | 0.7979891 | 0.9938366 | 0 | 0 | 1 | 0 |\n",
       "| 0.3415567 | 0.09652624 | 0.5937940 | 0.8959563 | 0 | 0 | 0 | 1 |\n",
       "\n"
      ],
      "text/plain": [
       "     [,1]      [,2]       [,3]      [,4]      [,5] [,6] [,7] [,8]\n",
       "[1,] 0.7977843 0.36129411 0.9878469 0.9053100 1    0    0    0   \n",
       "[2,] 0.7535651 0.19834473 0.1675695 0.8808486 0    1    0    0   \n",
       "[3,] 0.3912557 0.53485796 0.7979891 0.9938366 0    0    1    0   \n",
       "[4,] 0.3415567 0.09652624 0.5937940 0.8959563 0    0    0    1   "
      ]
     },
     "metadata": {},
     "output_type": "display_data"
    }
   ],
   "source": [
    "set.seed(123456)\n",
    "y = 1:4\n",
    "a = matrix(runif(16),4,4)\n",
    "b = cbind(a,diag(4))\n",
    "b"
   ]
  },
  {
   "cell_type": "code",
   "execution_count": 12,
   "metadata": {
    "vscode": {
     "languageId": "r"
    }
   },
   "outputs": [
    {
     "data": {
      "text/html": [
       "<table class=\"dataframe\">\n",
       "<caption>A matrix: 4 × 8 of type dbl</caption>\n",
       "<tbody>\n",
       "\t<tr><td>1</td><td>0.4528719</td><td>1.238238</td><td> 1.1347804</td><td> 1.253472</td><td> 0.0000000</td><td> 0.0000000</td><td>0.000000</td></tr>\n",
       "\t<tr><td>0</td><td>1.0000000</td><td>5.356168</td><td>-0.1799404</td><td> 6.608927</td><td>-6.9967386</td><td> 0.0000000</td><td>0.000000</td></tr>\n",
       "\t<tr><td>0</td><td>0.0000000</td><td>1.000000</td><td>-0.3833483</td><td> 1.781432</td><td>-1.5619114</td><td>-0.6241359</td><td>0.000000</td></tr>\n",
       "\t<tr><td>0</td><td>0.0000000</td><td>0.000000</td><td> 1.0000000</td><td>-1.322579</td><td> 0.5074595</td><td> 0.4409057</td><td>1.464537</td></tr>\n",
       "</tbody>\n",
       "</table>\n"
      ],
      "text/latex": [
       "A matrix: 4 × 8 of type dbl\n",
       "\\begin{tabular}{llllllll}\n",
       "\t 1 & 0.4528719 & 1.238238 &  1.1347804 &  1.253472 &  0.0000000 &  0.0000000 & 0.000000\\\\\n",
       "\t 0 & 1.0000000 & 5.356168 & -0.1799404 &  6.608927 & -6.9967386 &  0.0000000 & 0.000000\\\\\n",
       "\t 0 & 0.0000000 & 1.000000 & -0.3833483 &  1.781432 & -1.5619114 & -0.6241359 & 0.000000\\\\\n",
       "\t 0 & 0.0000000 & 0.000000 &  1.0000000 & -1.322579 &  0.5074595 &  0.4409057 & 1.464537\\\\\n",
       "\\end{tabular}\n"
      ],
      "text/markdown": [
       "\n",
       "A matrix: 4 × 8 of type dbl\n",
       "\n",
       "| 1 | 0.4528719 | 1.238238 |  1.1347804 |  1.253472 |  0.0000000 |  0.0000000 | 0.000000 |\n",
       "| 0 | 1.0000000 | 5.356168 | -0.1799404 |  6.608927 | -6.9967386 |  0.0000000 | 0.000000 |\n",
       "| 0 | 0.0000000 | 1.000000 | -0.3833483 |  1.781432 | -1.5619114 | -0.6241359 | 0.000000 |\n",
       "| 0 | 0.0000000 | 0.000000 |  1.0000000 | -1.322579 |  0.5074595 |  0.4409057 | 1.464537 |\n",
       "\n"
      ],
      "text/plain": [
       "     [,1] [,2]      [,3]     [,4]       [,5]      [,6]       [,7]      \n",
       "[1,] 1    0.4528719 1.238238  1.1347804  1.253472  0.0000000  0.0000000\n",
       "[2,] 0    1.0000000 5.356168 -0.1799404  6.608927 -6.9967386  0.0000000\n",
       "[3,] 0    0.0000000 1.000000 -0.3833483  1.781432 -1.5619114 -0.6241359\n",
       "[4,] 0    0.0000000 0.000000  1.0000000 -1.322579  0.5074595  0.4409057\n",
       "     [,8]    \n",
       "[1,] 0.000000\n",
       "[2,] 0.000000\n",
       "[3,] 0.000000\n",
       "[4,] 1.464537"
      ]
     },
     "metadata": {},
     "output_type": "display_data"
    }
   ],
   "source": [
    "fb = gaussElimination(b)\n",
    "fb"
   ]
  },
  {
   "cell_type": "code",
   "execution_count": 13,
   "metadata": {
    "vscode": {
     "languageId": "r"
    }
   },
   "outputs": [
    {
     "data": {
      "text/html": [
       "<table class=\"dataframe\">\n",
       "<caption>A matrix: 4 × 8 of type dbl</caption>\n",
       "<tbody>\n",
       "\t<tr><td>1</td><td>0</td><td>0</td><td>0</td><td> 1.3823645</td><td> 0.9277668</td><td>-1.0766737</td><td>-1.1146222</td></tr>\n",
       "\t<tr><td>0</td><td>1</td><td>0</td><td>0</td><td>-0.4550865</td><td> 0.4184788</td><td> 2.5170115</td><td>-2.7435713</td></tr>\n",
       "\t<tr><td>0</td><td>0</td><td>1</td><td>0</td><td> 1.2744237</td><td>-1.3673777</td><td>-0.4551154</td><td> 0.5614276</td></tr>\n",
       "\t<tr><td>0</td><td>0</td><td>0</td><td>1</td><td>-1.3225793</td><td> 0.5074595</td><td> 0.4409057</td><td> 1.4645367</td></tr>\n",
       "</tbody>\n",
       "</table>\n"
      ],
      "text/latex": [
       "A matrix: 4 × 8 of type dbl\n",
       "\\begin{tabular}{llllllll}\n",
       "\t 1 & 0 & 0 & 0 &  1.3823645 &  0.9277668 & -1.0766737 & -1.1146222\\\\\n",
       "\t 0 & 1 & 0 & 0 & -0.4550865 &  0.4184788 &  2.5170115 & -2.7435713\\\\\n",
       "\t 0 & 0 & 1 & 0 &  1.2744237 & -1.3673777 & -0.4551154 &  0.5614276\\\\\n",
       "\t 0 & 0 & 0 & 1 & -1.3225793 &  0.5074595 &  0.4409057 &  1.4645367\\\\\n",
       "\\end{tabular}\n"
      ],
      "text/markdown": [
       "\n",
       "A matrix: 4 × 8 of type dbl\n",
       "\n",
       "| 1 | 0 | 0 | 0 |  1.3823645 |  0.9277668 | -1.0766737 | -1.1146222 |\n",
       "| 0 | 1 | 0 | 0 | -0.4550865 |  0.4184788 |  2.5170115 | -2.7435713 |\n",
       "| 0 | 0 | 1 | 0 |  1.2744237 | -1.3673777 | -0.4551154 |  0.5614276 |\n",
       "| 0 | 0 | 0 | 1 | -1.3225793 |  0.5074595 |  0.4409057 |  1.4645367 |\n",
       "\n"
      ],
      "text/plain": [
       "     [,1] [,2] [,3] [,4] [,5]       [,6]       [,7]       [,8]      \n",
       "[1,] 1    0    0    0     1.3823645  0.9277668 -1.0766737 -1.1146222\n",
       "[2,] 0    1    0    0    -0.4550865  0.4184788  2.5170115 -2.7435713\n",
       "[3,] 0    0    1    0     1.2744237 -1.3673777 -0.4551154  0.5614276\n",
       "[4,] 0    0    0    1    -1.3225793  0.5074595  0.4409057  1.4645367"
      ]
     },
     "metadata": {},
     "output_type": "display_data"
    }
   ],
   "source": [
    "result = backwardSubstitution(fb)\n",
    "result"
   ]
  },
  {
   "cell_type": "code",
   "execution_count": 14,
   "metadata": {
    "vscode": {
     "languageId": "r"
    }
   },
   "outputs": [
    {
     "data": {
      "text/html": [
       "<table class=\"dataframe\">\n",
       "<caption>A matrix: 4 × 4 of type dbl</caption>\n",
       "<tbody>\n",
       "\t<tr><td> 1.000000e+00</td><td> 8.326673e-17</td><td> 5.551115e-16</td><td> 2.220446e-16</td></tr>\n",
       "\t<tr><td>-1.110223e-16</td><td> 1.000000e+00</td><td>-4.440892e-16</td><td> 0.000000e+00</td></tr>\n",
       "\t<tr><td>-1.665335e-16</td><td>-2.775558e-17</td><td> 1.000000e+00</td><td>-3.330669e-16</td></tr>\n",
       "\t<tr><td>-1.110223e-16</td><td> 5.551115e-17</td><td>-1.110223e-16</td><td> 1.000000e+00</td></tr>\n",
       "</tbody>\n",
       "</table>\n"
      ],
      "text/latex": [
       "A matrix: 4 × 4 of type dbl\n",
       "\\begin{tabular}{llll}\n",
       "\t  1.000000e+00 &  8.326673e-17 &  5.551115e-16 &  2.220446e-16\\\\\n",
       "\t -1.110223e-16 &  1.000000e+00 & -4.440892e-16 &  0.000000e+00\\\\\n",
       "\t -1.665335e-16 & -2.775558e-17 &  1.000000e+00 & -3.330669e-16\\\\\n",
       "\t -1.110223e-16 &  5.551115e-17 & -1.110223e-16 &  1.000000e+00\\\\\n",
       "\\end{tabular}\n"
      ],
      "text/markdown": [
       "\n",
       "A matrix: 4 × 4 of type dbl\n",
       "\n",
       "|  1.000000e+00 |  8.326673e-17 |  5.551115e-16 |  2.220446e-16 |\n",
       "| -1.110223e-16 |  1.000000e+00 | -4.440892e-16 |  0.000000e+00 |\n",
       "| -1.665335e-16 | -2.775558e-17 |  1.000000e+00 | -3.330669e-16 |\n",
       "| -1.110223e-16 |  5.551115e-17 | -1.110223e-16 |  1.000000e+00 |\n",
       "\n"
      ],
      "text/plain": [
       "     [,1]          [,2]          [,3]          [,4]         \n",
       "[1,]  1.000000e+00  8.326673e-17  5.551115e-16  2.220446e-16\n",
       "[2,] -1.110223e-16  1.000000e+00 -4.440892e-16  0.000000e+00\n",
       "[3,] -1.665335e-16 -2.775558e-17  1.000000e+00 -3.330669e-16\n",
       "[4,] -1.110223e-16  5.551115e-17 -1.110223e-16  1.000000e+00"
      ]
     },
     "metadata": {},
     "output_type": "display_data"
    }
   ],
   "source": [
    "result[,5:8] %*% a"
   ]
  },
  {
   "cell_type": "markdown",
   "metadata": {},
   "source": [
    "## LU Decomposition\n",
    "\n",
    "### Algorithm (from https://rdrr.io/cran/matrixcalc/src/R/lu.decomposition.R)"
   ]
  },
  {
   "cell_type": "code",
   "execution_count": 15,
   "metadata": {
    "vscode": {
     "languageId": "r"
    }
   },
   "outputs": [],
   "source": [
    "lu.decomposition <- function( x )\n",
    "{\n",
    "###\n",
    "### This function performs an LU decomposition of the given square matrix argument\n",
    "### the results are returned in a list of named components.  The Doolittle decomposition\n",
    "### method is used to obtain the lower and upper triangular matrices\n",
    "###\n",
    "### arguments\n",
    "### x = a square numeric matrix\n",
    "###\n",
    "    if ( nrow(x) != ncol(x) )\n",
    "        stop( \"argument x is not a square matrix\" )\n",
    "    if ( !is.numeric( x ) )\n",
    "        stop( \"argument x is not numeric\" )\n",
    "    n <- nrow( x )\n",
    "    L <- matrix( 0, nrow=n, ncol=n )\n",
    "    U <- matrix( 0, nrow=n, ncol=n )\n",
    "    diag( L ) <- rep( 1, n )\n",
    "    for ( i in 1:n ) {\n",
    "        ip1 <- i + 1\n",
    "        im1 <- i - 1\n",
    "        for ( j in 1:n ) {\n",
    "            U[i,j] <- x[i,j]\n",
    "            if ( im1 > 0 ) {\n",
    "                for ( k in 1:im1 ) {\n",
    "                    U[i,j] <- U[i,j] - L[i,k] * U[k,j]\n",
    "                }\n",
    "            }\n",
    "        }\n",
    "        if ( ip1 <= n ) {\n",
    "            for ( j in ip1:n ) {\n",
    "                L[j,i] <- x[j,i]\n",
    "                if ( im1 > 0 ) {\n",
    "                    for ( k in 1:im1 ) {\n",
    "                        L[j,i] <- L[j,i] - L[j,k] * U[k,i]\n",
    "                    }\n",
    "                }\n",
    "                if ( U[i,i] == 0 )\n",
    "                    stop( \"argument x is a singular matrix\" )\n",
    "                L[j,i] <- L[j,i] / U[i,i]\n",
    "            }    \n",
    "        }\n",
    "    }\n",
    "    result <- list( L=L, U=U )\n",
    "    return( result )\n",
    "}"
   ]
  },
  {
   "cell_type": "markdown",
   "metadata": {},
   "source": [
    "### Matrix LU Decomposition"
   ]
  },
  {
   "cell_type": "code",
   "execution_count": 16,
   "metadata": {
    "vscode": {
     "languageId": "r"
    }
   },
   "outputs": [
    {
     "data": {
      "text/html": [
       "<dl>\n",
       "\t<dt>$L</dt>\n",
       "\t\t<dd><table class=\"dataframe\">\n",
       "<caption>A matrix: 4 × 4 of type dbl</caption>\n",
       "<tbody>\n",
       "\t<tr><td>1.0000000</td><td> 0.0000000</td><td> 0.0000000</td><td>0</td></tr>\n",
       "\t<tr><td>0.9445725</td><td> 1.0000000</td><td> 0.0000000</td><td>0</td></tr>\n",
       "\t<tr><td>0.4904279</td><td>-2.5025183</td><td> 1.0000000</td><td>0</td></tr>\n",
       "\t<tr><td>0.4281316</td><td> 0.4068967</td><td>-0.3010548</td><td>1</td></tr>\n",
       "</tbody>\n",
       "</table>\n",
       "</dd>\n",
       "\t<dt>$U</dt>\n",
       "\t\t<dd><table class=\"dataframe\">\n",
       "<caption>A matrix: 4 × 4 of type dbl</caption>\n",
       "<tbody>\n",
       "\t<tr><td>0.7977843</td><td> 0.3612941</td><td> 0.9878469</td><td>0.90531001</td></tr>\n",
       "\t<tr><td>0.0000000</td><td>-0.1429237</td><td>-0.7655235</td><td>0.02571775</td></tr>\n",
       "\t<tr><td>0.0000000</td><td> 0.0000000</td><td>-1.6022152</td><td>0.61420641</td></tr>\n",
       "\t<tr><td>0.0000000</td><td> 0.0000000</td><td> 0.0000000</td><td>0.68280978</td></tr>\n",
       "</tbody>\n",
       "</table>\n",
       "</dd>\n",
       "</dl>\n"
      ],
      "text/latex": [
       "\\begin{description}\n",
       "\\item[\\$L] A matrix: 4 × 4 of type dbl\n",
       "\\begin{tabular}{llll}\n",
       "\t 1.0000000 &  0.0000000 &  0.0000000 & 0\\\\\n",
       "\t 0.9445725 &  1.0000000 &  0.0000000 & 0\\\\\n",
       "\t 0.4904279 & -2.5025183 &  1.0000000 & 0\\\\\n",
       "\t 0.4281316 &  0.4068967 & -0.3010548 & 1\\\\\n",
       "\\end{tabular}\n",
       "\n",
       "\\item[\\$U] A matrix: 4 × 4 of type dbl\n",
       "\\begin{tabular}{llll}\n",
       "\t 0.7977843 &  0.3612941 &  0.9878469 & 0.90531001\\\\\n",
       "\t 0.0000000 & -0.1429237 & -0.7655235 & 0.02571775\\\\\n",
       "\t 0.0000000 &  0.0000000 & -1.6022152 & 0.61420641\\\\\n",
       "\t 0.0000000 &  0.0000000 &  0.0000000 & 0.68280978\\\\\n",
       "\\end{tabular}\n",
       "\n",
       "\\end{description}\n"
      ],
      "text/markdown": [
       "$L\n",
       ":   \n",
       "A matrix: 4 × 4 of type dbl\n",
       "\n",
       "| 1.0000000 |  0.0000000 |  0.0000000 | 0 |\n",
       "| 0.9445725 |  1.0000000 |  0.0000000 | 0 |\n",
       "| 0.4904279 | -2.5025183 |  1.0000000 | 0 |\n",
       "| 0.4281316 |  0.4068967 | -0.3010548 | 1 |\n",
       "\n",
       "\n",
       "$U\n",
       ":   \n",
       "A matrix: 4 × 4 of type dbl\n",
       "\n",
       "| 0.7977843 |  0.3612941 |  0.9878469 | 0.90531001 |\n",
       "| 0.0000000 | -0.1429237 | -0.7655235 | 0.02571775 |\n",
       "| 0.0000000 |  0.0000000 | -1.6022152 | 0.61420641 |\n",
       "| 0.0000000 |  0.0000000 |  0.0000000 | 0.68280978 |\n",
       "\n",
       "\n",
       "\n",
       "\n"
      ],
      "text/plain": [
       "$L\n",
       "          [,1]       [,2]       [,3] [,4]\n",
       "[1,] 1.0000000  0.0000000  0.0000000    0\n",
       "[2,] 0.9445725  1.0000000  0.0000000    0\n",
       "[3,] 0.4904279 -2.5025183  1.0000000    0\n",
       "[4,] 0.4281316  0.4068967 -0.3010548    1\n",
       "\n",
       "$U\n",
       "          [,1]       [,2]       [,3]       [,4]\n",
       "[1,] 0.7977843  0.3612941  0.9878469 0.90531001\n",
       "[2,] 0.0000000 -0.1429237 -0.7655235 0.02571775\n",
       "[3,] 0.0000000  0.0000000 -1.6022152 0.61420641\n",
       "[4,] 0.0000000  0.0000000  0.0000000 0.68280978\n"
      ]
     },
     "metadata": {},
     "output_type": "display_data"
    }
   ],
   "source": [
    "set.seed(123456)\n",
    "a = matrix(runif(16),4,4)\n",
    "result = lu.decomposition(a)\n",
    "result"
   ]
  },
  {
   "cell_type": "markdown",
   "metadata": {},
   "source": [
    "### Using LU to find matrix inverse\n",
    "1. Forward elimination"
   ]
  },
  {
   "cell_type": "code",
   "execution_count": 17,
   "metadata": {
    "vscode": {
     "languageId": "r"
    }
   },
   "outputs": [
    {
     "name": "stdout",
     "output_type": "stream",
     "text": [
      "[1] \"combine the lower triangular matrix with the identity matrix\"\n"
     ]
    },
    {
     "data": {
      "text/html": [
       "<table class=\"dataframe\">\n",
       "<caption>A matrix: 4 × 8 of type dbl</caption>\n",
       "<tbody>\n",
       "\t<tr><td>1.0000000</td><td> 0.0000000</td><td> 0.0000000</td><td>0</td><td>1</td><td>0</td><td>0</td><td>0</td></tr>\n",
       "\t<tr><td>0.9445725</td><td> 1.0000000</td><td> 0.0000000</td><td>0</td><td>0</td><td>1</td><td>0</td><td>0</td></tr>\n",
       "\t<tr><td>0.4904279</td><td>-2.5025183</td><td> 1.0000000</td><td>0</td><td>0</td><td>0</td><td>1</td><td>0</td></tr>\n",
       "\t<tr><td>0.4281316</td><td> 0.4068967</td><td>-0.3010548</td><td>1</td><td>0</td><td>0</td><td>0</td><td>1</td></tr>\n",
       "</tbody>\n",
       "</table>\n"
      ],
      "text/latex": [
       "A matrix: 4 × 8 of type dbl\n",
       "\\begin{tabular}{llllllll}\n",
       "\t 1.0000000 &  0.0000000 &  0.0000000 & 0 & 1 & 0 & 0 & 0\\\\\n",
       "\t 0.9445725 &  1.0000000 &  0.0000000 & 0 & 0 & 1 & 0 & 0\\\\\n",
       "\t 0.4904279 & -2.5025183 &  1.0000000 & 0 & 0 & 0 & 1 & 0\\\\\n",
       "\t 0.4281316 &  0.4068967 & -0.3010548 & 1 & 0 & 0 & 0 & 1\\\\\n",
       "\\end{tabular}\n"
      ],
      "text/markdown": [
       "\n",
       "A matrix: 4 × 8 of type dbl\n",
       "\n",
       "| 1.0000000 |  0.0000000 |  0.0000000 | 0 | 1 | 0 | 0 | 0 |\n",
       "| 0.9445725 |  1.0000000 |  0.0000000 | 0 | 0 | 1 | 0 | 0 |\n",
       "| 0.4904279 | -2.5025183 |  1.0000000 | 0 | 0 | 0 | 1 | 0 |\n",
       "| 0.4281316 |  0.4068967 | -0.3010548 | 1 | 0 | 0 | 0 | 1 |\n",
       "\n"
      ],
      "text/plain": [
       "     [,1]      [,2]       [,3]       [,4] [,5] [,6] [,7] [,8]\n",
       "[1,] 1.0000000  0.0000000  0.0000000 0    1    0    0    0   \n",
       "[2,] 0.9445725  1.0000000  0.0000000 0    0    1    0    0   \n",
       "[3,] 0.4904279 -2.5025183  1.0000000 0    0    0    1    0   \n",
       "[4,] 0.4281316  0.4068967 -0.3010548 1    0    0    0    1   "
      ]
     },
     "metadata": {},
     "output_type": "display_data"
    },
    {
     "name": "stdout",
     "output_type": "stream",
     "text": [
      "[1] \"forward elimination\"\n"
     ]
    },
    {
     "data": {
      "text/html": [
       "<table class=\"dataframe\">\n",
       "<caption>A matrix: 4 × 8 of type dbl</caption>\n",
       "<tbody>\n",
       "\t<tr><td>1</td><td>0</td><td>0</td><td>0</td><td> 1.0000000</td><td>0.0000000</td><td>0.0000000</td><td>0</td></tr>\n",
       "\t<tr><td>0</td><td>1</td><td>0</td><td>0</td><td>-0.9445725</td><td>1.0000000</td><td>0.0000000</td><td>0</td></tr>\n",
       "\t<tr><td>0</td><td>0</td><td>1</td><td>0</td><td>-2.8542377</td><td>2.5025183</td><td>1.0000000</td><td>0</td></tr>\n",
       "\t<tr><td>0</td><td>0</td><td>0</td><td>1</td><td>-0.9030700</td><td>0.3464983</td><td>0.3010548</td><td>1</td></tr>\n",
       "</tbody>\n",
       "</table>\n"
      ],
      "text/latex": [
       "A matrix: 4 × 8 of type dbl\n",
       "\\begin{tabular}{llllllll}\n",
       "\t 1 & 0 & 0 & 0 &  1.0000000 & 0.0000000 & 0.0000000 & 0\\\\\n",
       "\t 0 & 1 & 0 & 0 & -0.9445725 & 1.0000000 & 0.0000000 & 0\\\\\n",
       "\t 0 & 0 & 1 & 0 & -2.8542377 & 2.5025183 & 1.0000000 & 0\\\\\n",
       "\t 0 & 0 & 0 & 1 & -0.9030700 & 0.3464983 & 0.3010548 & 1\\\\\n",
       "\\end{tabular}\n"
      ],
      "text/markdown": [
       "\n",
       "A matrix: 4 × 8 of type dbl\n",
       "\n",
       "| 1 | 0 | 0 | 0 |  1.0000000 | 0.0000000 | 0.0000000 | 0 |\n",
       "| 0 | 1 | 0 | 0 | -0.9445725 | 1.0000000 | 0.0000000 | 0 |\n",
       "| 0 | 0 | 1 | 0 | -2.8542377 | 2.5025183 | 1.0000000 | 0 |\n",
       "| 0 | 0 | 0 | 1 | -0.9030700 | 0.3464983 | 0.3010548 | 1 |\n",
       "\n"
      ],
      "text/plain": [
       "     [,1] [,2] [,3] [,4] [,5]       [,6]      [,7]      [,8]\n",
       "[1,] 1    0    0    0     1.0000000 0.0000000 0.0000000 0   \n",
       "[2,] 0    1    0    0    -0.9445725 1.0000000 0.0000000 0   \n",
       "[3,] 0    0    1    0    -2.8542377 2.5025183 1.0000000 0   \n",
       "[4,] 0    0    0    1    -0.9030700 0.3464983 0.3010548 1   "
      ]
     },
     "metadata": {},
     "output_type": "display_data"
    }
   ],
   "source": [
    "print(\"combine the lower triangular matrix with the identity matrix\")\n",
    "b = cbind(result$L,diag(4))\n",
    "b\n",
    "\n",
    "fb = gaussElimination(b)\n",
    "print(\"forward elimination\")\n",
    "fb"
   ]
  },
  {
   "cell_type": "markdown",
   "metadata": {},
   "source": [
    "2. Backward elimination"
   ]
  },
  {
   "cell_type": "code",
   "execution_count": 18,
   "metadata": {
    "vscode": {
     "languageId": "r"
    }
   },
   "outputs": [
    {
     "data": {
      "text/html": [
       "<table class=\"dataframe\">\n",
       "<caption>A matrix: 4 × 8 of type dbl</caption>\n",
       "<tbody>\n",
       "\t<tr><td>0.7977843</td><td> 0.3612941</td><td> 0.9878469</td><td>0.90531001</td><td> 1.0000000</td><td>0.0000000</td><td>0.0000000</td><td>0</td></tr>\n",
       "\t<tr><td>0.0000000</td><td>-0.1429237</td><td>-0.7655235</td><td>0.02571775</td><td>-0.9445725</td><td>1.0000000</td><td>0.0000000</td><td>0</td></tr>\n",
       "\t<tr><td>0.0000000</td><td> 0.0000000</td><td>-1.6022152</td><td>0.61420641</td><td>-2.8542377</td><td>2.5025183</td><td>1.0000000</td><td>0</td></tr>\n",
       "\t<tr><td>0.0000000</td><td> 0.0000000</td><td> 0.0000000</td><td>0.68280978</td><td>-0.9030700</td><td>0.3464983</td><td>0.3010548</td><td>1</td></tr>\n",
       "</tbody>\n",
       "</table>\n"
      ],
      "text/latex": [
       "A matrix: 4 × 8 of type dbl\n",
       "\\begin{tabular}{llllllll}\n",
       "\t 0.7977843 &  0.3612941 &  0.9878469 & 0.90531001 &  1.0000000 & 0.0000000 & 0.0000000 & 0\\\\\n",
       "\t 0.0000000 & -0.1429237 & -0.7655235 & 0.02571775 & -0.9445725 & 1.0000000 & 0.0000000 & 0\\\\\n",
       "\t 0.0000000 &  0.0000000 & -1.6022152 & 0.61420641 & -2.8542377 & 2.5025183 & 1.0000000 & 0\\\\\n",
       "\t 0.0000000 &  0.0000000 &  0.0000000 & 0.68280978 & -0.9030700 & 0.3464983 & 0.3010548 & 1\\\\\n",
       "\\end{tabular}\n"
      ],
      "text/markdown": [
       "\n",
       "A matrix: 4 × 8 of type dbl\n",
       "\n",
       "| 0.7977843 |  0.3612941 |  0.9878469 | 0.90531001 |  1.0000000 | 0.0000000 | 0.0000000 | 0 |\n",
       "| 0.0000000 | -0.1429237 | -0.7655235 | 0.02571775 | -0.9445725 | 1.0000000 | 0.0000000 | 0 |\n",
       "| 0.0000000 |  0.0000000 | -1.6022152 | 0.61420641 | -2.8542377 | 2.5025183 | 1.0000000 | 0 |\n",
       "| 0.0000000 |  0.0000000 |  0.0000000 | 0.68280978 | -0.9030700 | 0.3464983 | 0.3010548 | 1 |\n",
       "\n"
      ],
      "text/plain": [
       "     [,1]      [,2]       [,3]       [,4]       [,5]       [,6]      [,7]     \n",
       "[1,] 0.7977843  0.3612941  0.9878469 0.90531001  1.0000000 0.0000000 0.0000000\n",
       "[2,] 0.0000000 -0.1429237 -0.7655235 0.02571775 -0.9445725 1.0000000 0.0000000\n",
       "[3,] 0.0000000  0.0000000 -1.6022152 0.61420641 -2.8542377 2.5025183 1.0000000\n",
       "[4,] 0.0000000  0.0000000  0.0000000 0.68280978 -0.9030700 0.3464983 0.3010548\n",
       "     [,8]\n",
       "[1,] 0   \n",
       "[2,] 0   \n",
       "[3,] 0   \n",
       "[4,] 1   "
      ]
     },
     "metadata": {},
     "output_type": "display_data"
    },
    {
     "name": "stdout",
     "output_type": "stream",
     "text": [
      "[1] \"backward substitution\"\n"
     ]
    },
    {
     "data": {
      "text/html": [
       "<table class=\"dataframe\">\n",
       "<caption>A matrix: 4 × 8 of type dbl</caption>\n",
       "<tbody>\n",
       "\t<tr><td>1</td><td>0</td><td>0</td><td>0</td><td> 1.3823645</td><td> 0.9277668</td><td>-1.0766737</td><td>-1.1146222</td></tr>\n",
       "\t<tr><td>0</td><td>1</td><td>0</td><td>0</td><td>-0.4550865</td><td> 0.4184788</td><td> 2.5170115</td><td>-2.7435713</td></tr>\n",
       "\t<tr><td>0</td><td>0</td><td>1</td><td>0</td><td> 1.2744237</td><td>-1.3673777</td><td>-0.4551154</td><td> 0.5614276</td></tr>\n",
       "\t<tr><td>0</td><td>0</td><td>0</td><td>1</td><td>-1.3225793</td><td> 0.5074595</td><td> 0.4409057</td><td> 1.4645367</td></tr>\n",
       "</tbody>\n",
       "</table>\n"
      ],
      "text/latex": [
       "A matrix: 4 × 8 of type dbl\n",
       "\\begin{tabular}{llllllll}\n",
       "\t 1 & 0 & 0 & 0 &  1.3823645 &  0.9277668 & -1.0766737 & -1.1146222\\\\\n",
       "\t 0 & 1 & 0 & 0 & -0.4550865 &  0.4184788 &  2.5170115 & -2.7435713\\\\\n",
       "\t 0 & 0 & 1 & 0 &  1.2744237 & -1.3673777 & -0.4551154 &  0.5614276\\\\\n",
       "\t 0 & 0 & 0 & 1 & -1.3225793 &  0.5074595 &  0.4409057 &  1.4645367\\\\\n",
       "\\end{tabular}\n"
      ],
      "text/markdown": [
       "\n",
       "A matrix: 4 × 8 of type dbl\n",
       "\n",
       "| 1 | 0 | 0 | 0 |  1.3823645 |  0.9277668 | -1.0766737 | -1.1146222 |\n",
       "| 0 | 1 | 0 | 0 | -0.4550865 |  0.4184788 |  2.5170115 | -2.7435713 |\n",
       "| 0 | 0 | 1 | 0 |  1.2744237 | -1.3673777 | -0.4551154 |  0.5614276 |\n",
       "| 0 | 0 | 0 | 1 | -1.3225793 |  0.5074595 |  0.4409057 |  1.4645367 |\n",
       "\n"
      ],
      "text/plain": [
       "     [,1] [,2] [,3] [,4] [,5]       [,6]       [,7]       [,8]      \n",
       "[1,] 1    0    0    0     1.3823645  0.9277668 -1.0766737 -1.1146222\n",
       "[2,] 0    1    0    0    -0.4550865  0.4184788  2.5170115 -2.7435713\n",
       "[3,] 0    0    1    0     1.2744237 -1.3673777 -0.4551154  0.5614276\n",
       "[4,] 0    0    0    1    -1.3225793  0.5074595  0.4409057  1.4645367"
      ]
     },
     "metadata": {},
     "output_type": "display_data"
    },
    {
     "name": "stdout",
     "output_type": "stream",
     "text": [
      "[1] \"check if it is the inverse\"\n"
     ]
    },
    {
     "data": {
      "text/html": [
       "<table class=\"dataframe\">\n",
       "<caption>A matrix: 4 × 4 of type dbl</caption>\n",
       "<tbody>\n",
       "\t<tr><td> 1.000000e+00</td><td> 0.000000e+00</td><td> 2.220446e-16</td><td> 4.440892e-16</td></tr>\n",
       "\t<tr><td> 0.000000e+00</td><td> 1.000000e+00</td><td> 6.661338e-16</td><td> 4.440892e-16</td></tr>\n",
       "\t<tr><td>-8.326673e-17</td><td>-2.081668e-17</td><td> 1.000000e+00</td><td>-2.220446e-16</td></tr>\n",
       "\t<tr><td> 0.000000e+00</td><td> 5.551115e-17</td><td>-1.110223e-16</td><td> 1.000000e+00</td></tr>\n",
       "</tbody>\n",
       "</table>\n"
      ],
      "text/latex": [
       "A matrix: 4 × 4 of type dbl\n",
       "\\begin{tabular}{llll}\n",
       "\t  1.000000e+00 &  0.000000e+00 &  2.220446e-16 &  4.440892e-16\\\\\n",
       "\t  0.000000e+00 &  1.000000e+00 &  6.661338e-16 &  4.440892e-16\\\\\n",
       "\t -8.326673e-17 & -2.081668e-17 &  1.000000e+00 & -2.220446e-16\\\\\n",
       "\t  0.000000e+00 &  5.551115e-17 & -1.110223e-16 &  1.000000e+00\\\\\n",
       "\\end{tabular}\n"
      ],
      "text/markdown": [
       "\n",
       "A matrix: 4 × 4 of type dbl\n",
       "\n",
       "|  1.000000e+00 |  0.000000e+00 |  2.220446e-16 |  4.440892e-16 |\n",
       "|  0.000000e+00 |  1.000000e+00 |  6.661338e-16 |  4.440892e-16 |\n",
       "| -8.326673e-17 | -2.081668e-17 |  1.000000e+00 | -2.220446e-16 |\n",
       "|  0.000000e+00 |  5.551115e-17 | -1.110223e-16 |  1.000000e+00 |\n",
       "\n"
      ],
      "text/plain": [
       "     [,1]          [,2]          [,3]          [,4]         \n",
       "[1,]  1.000000e+00  0.000000e+00  2.220446e-16  4.440892e-16\n",
       "[2,]  0.000000e+00  1.000000e+00  6.661338e-16  4.440892e-16\n",
       "[3,] -8.326673e-17 -2.081668e-17  1.000000e+00 -2.220446e-16\n",
       "[4,]  0.000000e+00  5.551115e-17 -1.110223e-16  1.000000e+00"
      ]
     },
     "metadata": {},
     "output_type": "display_data"
    }
   ],
   "source": [
    "c = cbind(result$U, fb[,5:8])\n",
    "c\n",
    "\n",
    "print(\"backward substitution\")\n",
    "fc = backwardSubstitution(c)\n",
    "fc\n",
    "\n",
    "print(\"check if it is the inverse\")\n",
    "fc[,5:8] %*% a"
   ]
  },
  {
   "cell_type": "markdown",
   "metadata": {},
   "source": [
    "## QR Decomposition\n",
    "### R code"
   ]
  },
  {
   "cell_type": "code",
   "execution_count": 19,
   "metadata": {
    "vscode": {
     "languageId": "r"
    }
   },
   "outputs": [
    {
     "data": {
      "text/html": [
       "<table class=\"dataframe\">\n",
       "<caption>A matrix: 4 × 4 of type dbl</caption>\n",
       "<tbody>\n",
       "\t<tr><td>0.7977843</td><td>0.36129411</td><td>0.9878469</td><td>0.9053100</td></tr>\n",
       "\t<tr><td>0.7535651</td><td>0.19834473</td><td>0.1675695</td><td>0.8808486</td></tr>\n",
       "\t<tr><td>0.3912557</td><td>0.53485796</td><td>0.7979891</td><td>0.9938366</td></tr>\n",
       "\t<tr><td>0.3415567</td><td>0.09652624</td><td>0.5937940</td><td>0.8959563</td></tr>\n",
       "</tbody>\n",
       "</table>\n"
      ],
      "text/latex": [
       "A matrix: 4 × 4 of type dbl\n",
       "\\begin{tabular}{llll}\n",
       "\t 0.7977843 & 0.36129411 & 0.9878469 & 0.9053100\\\\\n",
       "\t 0.7535651 & 0.19834473 & 0.1675695 & 0.8808486\\\\\n",
       "\t 0.3912557 & 0.53485796 & 0.7979891 & 0.9938366\\\\\n",
       "\t 0.3415567 & 0.09652624 & 0.5937940 & 0.8959563\\\\\n",
       "\\end{tabular}\n"
      ],
      "text/markdown": [
       "\n",
       "A matrix: 4 × 4 of type dbl\n",
       "\n",
       "| 0.7977843 | 0.36129411 | 0.9878469 | 0.9053100 |\n",
       "| 0.7535651 | 0.19834473 | 0.1675695 | 0.8808486 |\n",
       "| 0.3912557 | 0.53485796 | 0.7979891 | 0.9938366 |\n",
       "| 0.3415567 | 0.09652624 | 0.5937940 | 0.8959563 |\n",
       "\n"
      ],
      "text/plain": [
       "     [,1]      [,2]       [,3]      [,4]     \n",
       "[1,] 0.7977843 0.36129411 0.9878469 0.9053100\n",
       "[2,] 0.7535651 0.19834473 0.1675695 0.8808486\n",
       "[3,] 0.3912557 0.53485796 0.7979891 0.9938366\n",
       "[4,] 0.3415567 0.09652624 0.5937940 0.8959563"
      ]
     },
     "metadata": {},
     "output_type": "display_data"
    },
    {
     "name": "stdout",
     "output_type": "stream",
     "text": [
      "[1] \"Q matrix\"\n"
     ]
    },
    {
     "data": {
      "text/html": [
       "<table class=\"dataframe\">\n",
       "<caption>A matrix: 4 × 4 of type dbl</caption>\n",
       "<tbody>\n",
       "\t<tr><td>-0.6570941</td><td>-0.01719891</td><td> 0.4067462</td><td>-0.6344202</td></tr>\n",
       "\t<tr><td>-0.6206730</td><td>-0.38328107</td><td>-0.6392239</td><td> 0.2434203</td></tr>\n",
       "\t<tr><td>-0.3222573</td><td> 0.91007810</td><td>-0.1522424</td><td> 0.2114955</td></tr>\n",
       "\t<tr><td>-0.2813228</td><td>-0.15670891</td><td> 0.6346436</td><td> 0.7025149</td></tr>\n",
       "</tbody>\n",
       "</table>\n"
      ],
      "text/latex": [
       "A matrix: 4 × 4 of type dbl\n",
       "\\begin{tabular}{llll}\n",
       "\t -0.6570941 & -0.01719891 &  0.4067462 & -0.6344202\\\\\n",
       "\t -0.6206730 & -0.38328107 & -0.6392239 &  0.2434203\\\\\n",
       "\t -0.3222573 &  0.91007810 & -0.1522424 &  0.2114955\\\\\n",
       "\t -0.2813228 & -0.15670891 &  0.6346436 &  0.7025149\\\\\n",
       "\\end{tabular}\n"
      ],
      "text/markdown": [
       "\n",
       "A matrix: 4 × 4 of type dbl\n",
       "\n",
       "| -0.6570941 | -0.01719891 |  0.4067462 | -0.6344202 |\n",
       "| -0.6206730 | -0.38328107 | -0.6392239 |  0.2434203 |\n",
       "| -0.3222573 |  0.91007810 | -0.1522424 |  0.2114955 |\n",
       "| -0.2813228 | -0.15670891 |  0.6346436 |  0.7025149 |\n",
       "\n"
      ],
      "text/plain": [
       "     [,1]       [,2]        [,3]       [,4]      \n",
       "[1,] -0.6570941 -0.01719891  0.4067462 -0.6344202\n",
       "[2,] -0.6206730 -0.38328107 -0.6392239  0.2434203\n",
       "[3,] -0.3222573  0.91007810 -0.1522424  0.2114955\n",
       "[4,] -0.2813228 -0.15670891  0.6346436  0.7025149"
      ]
     },
     "metadata": {},
     "output_type": "display_data"
    },
    {
     "name": "stdout",
     "output_type": "stream",
     "text": [
      "[1] \"R matrix\"\n"
     ]
    },
    {
     "data": {
      "text/html": [
       "<table class=\"dataframe\">\n",
       "<caption>A matrix: 4 × 4 of type dbl</caption>\n",
       "<tbody>\n",
       "\t<tr><td>-1.21411</td><td>-0.5600284</td><td>-1.1773199</td><td>-1.7139169</td></tr>\n",
       "\t<tr><td> 0.00000</td><td> 0.3894003</td><td> 0.5519635</td><td> 0.4108816</td></tr>\n",
       "\t<tr><td> 0.00000</td><td> 0.0000000</td><td> 0.5500484</td><td> 0.2224808</td></tr>\n",
       "\t<tr><td> 0.00000</td><td> 0.0000000</td><td> 0.0000000</td><td> 0.4796841</td></tr>\n",
       "</tbody>\n",
       "</table>\n"
      ],
      "text/latex": [
       "A matrix: 4 × 4 of type dbl\n",
       "\\begin{tabular}{llll}\n",
       "\t -1.21411 & -0.5600284 & -1.1773199 & -1.7139169\\\\\n",
       "\t  0.00000 &  0.3894003 &  0.5519635 &  0.4108816\\\\\n",
       "\t  0.00000 &  0.0000000 &  0.5500484 &  0.2224808\\\\\n",
       "\t  0.00000 &  0.0000000 &  0.0000000 &  0.4796841\\\\\n",
       "\\end{tabular}\n"
      ],
      "text/markdown": [
       "\n",
       "A matrix: 4 × 4 of type dbl\n",
       "\n",
       "| -1.21411 | -0.5600284 | -1.1773199 | -1.7139169 |\n",
       "|  0.00000 |  0.3894003 |  0.5519635 |  0.4108816 |\n",
       "|  0.00000 |  0.0000000 |  0.5500484 |  0.2224808 |\n",
       "|  0.00000 |  0.0000000 |  0.0000000 |  0.4796841 |\n",
       "\n"
      ],
      "text/plain": [
       "     [,1]     [,2]       [,3]       [,4]      \n",
       "[1,] -1.21411 -0.5600284 -1.1773199 -1.7139169\n",
       "[2,]  0.00000  0.3894003  0.5519635  0.4108816\n",
       "[3,]  0.00000  0.0000000  0.5500484  0.2224808\n",
       "[4,]  0.00000  0.0000000  0.0000000  0.4796841"
      ]
     },
     "metadata": {},
     "output_type": "display_data"
    },
    {
     "name": "stdout",
     "output_type": "stream",
     "text": [
      "[1] \"check if the QR decomposition is correct\"\n"
     ]
    },
    {
     "data": {
      "text/html": [
       "<table class=\"dataframe\">\n",
       "<caption>A matrix: 4 × 4 of type dbl</caption>\n",
       "<tbody>\n",
       "\t<tr><td>0.7977843</td><td>0.36129411</td><td>0.9878469</td><td>0.9053100</td></tr>\n",
       "\t<tr><td>0.7535651</td><td>0.19834473</td><td>0.1675695</td><td>0.8808486</td></tr>\n",
       "\t<tr><td>0.3912557</td><td>0.53485796</td><td>0.7979891</td><td>0.9938366</td></tr>\n",
       "\t<tr><td>0.3415567</td><td>0.09652624</td><td>0.5937940</td><td>0.8959563</td></tr>\n",
       "</tbody>\n",
       "</table>\n"
      ],
      "text/latex": [
       "A matrix: 4 × 4 of type dbl\n",
       "\\begin{tabular}{llll}\n",
       "\t 0.7977843 & 0.36129411 & 0.9878469 & 0.9053100\\\\\n",
       "\t 0.7535651 & 0.19834473 & 0.1675695 & 0.8808486\\\\\n",
       "\t 0.3912557 & 0.53485796 & 0.7979891 & 0.9938366\\\\\n",
       "\t 0.3415567 & 0.09652624 & 0.5937940 & 0.8959563\\\\\n",
       "\\end{tabular}\n"
      ],
      "text/markdown": [
       "\n",
       "A matrix: 4 × 4 of type dbl\n",
       "\n",
       "| 0.7977843 | 0.36129411 | 0.9878469 | 0.9053100 |\n",
       "| 0.7535651 | 0.19834473 | 0.1675695 | 0.8808486 |\n",
       "| 0.3912557 | 0.53485796 | 0.7979891 | 0.9938366 |\n",
       "| 0.3415567 | 0.09652624 | 0.5937940 | 0.8959563 |\n",
       "\n"
      ],
      "text/plain": [
       "     [,1]      [,2]       [,3]      [,4]     \n",
       "[1,] 0.7977843 0.36129411 0.9878469 0.9053100\n",
       "[2,] 0.7535651 0.19834473 0.1675695 0.8808486\n",
       "[3,] 0.3912557 0.53485796 0.7979891 0.9938366\n",
       "[4,] 0.3415567 0.09652624 0.5937940 0.8959563"
      ]
     },
     "metadata": {},
     "output_type": "display_data"
    }
   ],
   "source": [
    "set.seed(123456)\n",
    "a = matrix(runif(16),4,4)\n",
    "a\n",
    "result = qr(a)\n",
    "\n",
    "print(\"Q matrix\")\n",
    "qr.Q(result)\n",
    "\n",
    "print(\"R matrix\")\n",
    "qr.R(result)\n",
    "\n",
    "print(\"check if the QR decomposition is correct\")\n",
    "qr.Q(result)%*%qr.R(result)"
   ]
  },
  {
   "cell_type": "markdown",
   "metadata": {},
   "source": [
    "### QR Method for Finding Eigensystems"
   ]
  },
  {
   "cell_type": "code",
   "execution_count": 20,
   "metadata": {
    "vscode": {
     "languageId": "r"
    }
   },
   "outputs": [
    {
     "name": "stdout",
     "output_type": "stream",
     "text": [
      "[1] \"A is a symmetric matrix\"\n"
     ]
    },
    {
     "data": {
      "text/html": [
       "<table class=\"dataframe\">\n",
       "<caption>A matrix: 4 × 4 of type dbl</caption>\n",
       "<tbody>\n",
       "\t<tr><td>1.7572867</td><td>0.3571993</td><td>0.8127714</td><td>1.6310859</td></tr>\n",
       "\t<tr><td>0.3571993</td><td>0.1612905</td><td>0.8331551</td><td>0.3378929</td></tr>\n",
       "\t<tr><td>0.8127714</td><td>0.8331551</td><td>1.7597781</td><td>1.4007624</td></tr>\n",
       "\t<tr><td>1.6310859</td><td>0.3378929</td><td>1.4007624</td><td>1.7382564</td></tr>\n",
       "</tbody>\n",
       "</table>\n"
      ],
      "text/latex": [
       "A matrix: 4 × 4 of type dbl\n",
       "\\begin{tabular}{llll}\n",
       "\t 1.7572867 & 0.3571993 & 0.8127714 & 1.6310859\\\\\n",
       "\t 0.3571993 & 0.1612905 & 0.8331551 & 0.3378929\\\\\n",
       "\t 0.8127714 & 0.8331551 & 1.7597781 & 1.4007624\\\\\n",
       "\t 1.6310859 & 0.3378929 & 1.4007624 & 1.7382564\\\\\n",
       "\\end{tabular}\n"
      ],
      "text/markdown": [
       "\n",
       "A matrix: 4 × 4 of type dbl\n",
       "\n",
       "| 1.7572867 | 0.3571993 | 0.8127714 | 1.6310859 |\n",
       "| 0.3571993 | 0.1612905 | 0.8331551 | 0.3378929 |\n",
       "| 0.8127714 | 0.8331551 | 1.7597781 | 1.4007624 |\n",
       "| 1.6310859 | 0.3378929 | 1.4007624 | 1.7382564 |\n",
       "\n"
      ],
      "text/plain": [
       "     [,1]      [,2]      [,3]      [,4]     \n",
       "[1,] 1.7572867 0.3571993 0.8127714 1.6310859\n",
       "[2,] 0.3571993 0.1612905 0.8331551 0.3378929\n",
       "[3,] 0.8127714 0.8331551 1.7597781 1.4007624\n",
       "[4,] 1.6310859 0.3378929 1.4007624 1.7382564"
      ]
     },
     "metadata": {},
     "output_type": "display_data"
    },
    {
     "name": "stdout",
     "output_type": "stream",
     "text": [
      "[1] \"The diagonal matrix is \"\n"
     ]
    },
    {
     "data": {
      "text/html": [
       "<table class=\"dataframe\">\n",
       "<caption>A matrix: 4 × 4 of type dbl</caption>\n",
       "<tbody>\n",
       "\t<tr><td>4.511454</td><td>4.714409e-16</td><td> 3.298782e-16</td><td> 4.032537e-16</td></tr>\n",
       "\t<tr><td>0.000000</td><td>1.098270e+00</td><td> 2.759813e-17</td><td>-1.101242e-16</td></tr>\n",
       "\t<tr><td>0.000000</td><td>0.000000e+00</td><td>-3.116594e-01</td><td> 2.150840e-17</td></tr>\n",
       "\t<tr><td>0.000000</td><td>0.000000e+00</td><td> 0.000000e+00</td><td> 1.185478e-01</td></tr>\n",
       "</tbody>\n",
       "</table>\n"
      ],
      "text/latex": [
       "A matrix: 4 × 4 of type dbl\n",
       "\\begin{tabular}{llll}\n",
       "\t 4.511454 & 4.714409e-16 &  3.298782e-16 &  4.032537e-16\\\\\n",
       "\t 0.000000 & 1.098270e+00 &  2.759813e-17 & -1.101242e-16\\\\\n",
       "\t 0.000000 & 0.000000e+00 & -3.116594e-01 &  2.150840e-17\\\\\n",
       "\t 0.000000 & 0.000000e+00 &  0.000000e+00 &  1.185478e-01\\\\\n",
       "\\end{tabular}\n"
      ],
      "text/markdown": [
       "\n",
       "A matrix: 4 × 4 of type dbl\n",
       "\n",
       "| 4.511454 | 4.714409e-16 |  3.298782e-16 |  4.032537e-16 |\n",
       "| 0.000000 | 1.098270e+00 |  2.759813e-17 | -1.101242e-16 |\n",
       "| 0.000000 | 0.000000e+00 | -3.116594e-01 |  2.150840e-17 |\n",
       "| 0.000000 | 0.000000e+00 |  0.000000e+00 |  1.185478e-01 |\n",
       "\n"
      ],
      "text/plain": [
       "     [,1]     [,2]         [,3]          [,4]         \n",
       "[1,] 4.511454 4.714409e-16  3.298782e-16  4.032537e-16\n",
       "[2,] 0.000000 1.098270e+00  2.759813e-17 -1.101242e-16\n",
       "[3,] 0.000000 0.000000e+00 -3.116594e-01  2.150840e-17\n",
       "[4,] 0.000000 0.000000e+00  0.000000e+00  1.185478e-01"
      ]
     },
     "metadata": {},
     "output_type": "display_data"
    },
    {
     "name": "stdout",
     "output_type": "stream",
     "text": [
      "[1] \"The eigenvalues of matrix A are \"\n"
     ]
    },
    {
     "data": {
      "text/html": [
       "<style>\n",
       ".list-inline {list-style: none; margin:0; padding: 0}\n",
       ".list-inline>li {display: inline-block}\n",
       ".list-inline>li:not(:last-child)::after {content: \"\\00b7\"; padding: 0 .5ex}\n",
       "</style>\n",
       "<ol class=list-inline><li>4.51145351489907</li><li>1.09826978524186</li><li>-0.31165935618487</li><li>0.118547786630674</li></ol>\n"
      ],
      "text/latex": [
       "\\begin{enumerate*}\n",
       "\\item 4.51145351489907\n",
       "\\item 1.09826978524186\n",
       "\\item -0.31165935618487\n",
       "\\item 0.118547786630674\n",
       "\\end{enumerate*}\n"
      ],
      "text/markdown": [
       "1. 4.51145351489907\n",
       "2. 1.09826978524186\n",
       "3. -0.31165935618487\n",
       "4. 0.118547786630674\n",
       "\n",
       "\n"
      ],
      "text/plain": [
       "[1]  4.5114535  1.0982698 -0.3116594  0.1185478"
      ]
     },
     "metadata": {},
     "output_type": "display_data"
    }
   ],
   "source": [
    "A=matrix(runif(16),4)\n",
    "A=A+t(A)\n",
    "print(\"A is a symmetric matrix\")\n",
    "A\n",
    "\n",
    "A1=A\n",
    "iter=0\n",
    "\n",
    "while(sum(abs(lower.tri(A1)))>1e-6 & iter<10000){\n",
    "  iter = iter+1\n",
    "  result = qr(A1)\n",
    "  Q=qr.Q(result)\n",
    "  R=qr.R(result)\n",
    "  A1=R%*%Q\n",
    "}\n",
    "\n",
    "print(\"The diagonal matrix is \")\n",
    "A1\n",
    "\n",
    "print(\"The eigenvalues of matrix A are \")\n",
    "diag(A1)"
   ]
  },
  {
   "cell_type": "code",
   "execution_count": null,
   "metadata": {
    "vscode": {
     "languageId": "r"
    }
   },
   "outputs": [],
   "source": []
  },
  {
   "cell_type": "code",
   "execution_count": null,
   "metadata": {
    "vscode": {
     "languageId": "r"
    }
   },
   "outputs": [],
   "source": []
  },
  {
   "cell_type": "code",
   "execution_count": null,
   "metadata": {
    "vscode": {
     "languageId": "r"
    }
   },
   "outputs": [],
   "source": []
  },
  {
   "cell_type": "code",
   "execution_count": null,
   "metadata": {
    "vscode": {
     "languageId": "r"
    }
   },
   "outputs": [],
   "source": []
  }
 ],
 "metadata": {
  "interpreter": {
   "hash": "e0572bf1fab9413cf24173b47d900f8b3a00c27d049e87a739e9648e95031a25"
  },
  "kernelspec": {
   "display_name": "R",
   "language": "R",
   "name": "ir"
  },
  "language_info": {
   "codemirror_mode": "r",
   "file_extension": ".r",
   "mimetype": "text/x-r-source",
   "name": "R",
   "pygments_lexer": "r",
   "version": "4.1.1"
  },
  "toc-autonumbering": false
 },
 "nbformat": 4,
 "nbformat_minor": 4
}
